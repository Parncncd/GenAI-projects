{
  "nbformat": 4,
  "nbformat_minor": 0,
  "metadata": {
    "colab": {
      "provenance": [],
      "gpuType": "T4",
      "collapsed_sections": [
        "ebjOvuHGsk9e"
      ]
    },
    "kernelspec": {
      "name": "python3",
      "display_name": "Python 3"
    },
    "language_info": {
      "name": "python"
    },
    "accelerator": "GPU"
  },
  "cells": [
    {
      "cell_type": "markdown",
      "source": [
        "# Langchain"
      ],
      "metadata": {
        "id": "-DBLJWkHaCSm"
      }
    },
    {
      "cell_type": "code",
      "source": [
        "!pip install --upgrade --quiet langchain langchain_community langchain-anthropic langchain_experimental pypdf huggingface_hub sentence-transformers chromadb docarray"
      ],
      "metadata": {
        "id": "m3q_4LsOo-mI"
      },
      "execution_count": 1,
      "outputs": []
    },
    {
      "cell_type": "markdown",
      "source": [
        "## Load data"
      ],
      "metadata": {
        "id": "qJ2Segphl6P4"
      }
    },
    {
      "cell_type": "code",
      "source": [
        "from langchain.document_loaders import PyPDFLoader\n",
        "\n",
        "# Load PDF\n",
        "loaders = [\n",
        "    # Duplicate documents on purpose - messy data\n",
        "    PyPDFLoader(\"https://see.stanford.edu/materials/aimlcs229/transcripts/MachineLearning-Lecture01.pdf\"),\n",
        "    PyPDFLoader(\"https://see.stanford.edu/materials/aimlcs229/transcripts/MachineLearning-Lecture02.pdf\"),\n",
        "    PyPDFLoader(\"https://see.stanford.edu/materials/aimlcs229/transcripts/MachineLearning-Lecture03.pdf\"),\n",
        "    PyPDFLoader(\"https://see.stanford.edu/materials/aimlcs229/transcripts/MachineLearning-Lecture04.pdf\"),\n",
        "]\n",
        "docs = []\n",
        "for loader in loaders:\n",
        "    docs.extend(loader.load())"
      ],
      "metadata": {
        "id": "RoZp6pBPcA0y"
      },
      "execution_count": 4,
      "outputs": []
    },
    {
      "cell_type": "markdown",
      "source": [
        "## Splitting"
      ],
      "metadata": {
        "id": "hdlnx_T-mBr9"
      }
    },
    {
      "cell_type": "code",
      "source": [
        "from langchain.text_splitter import RecursiveCharacterTextSplitter\n",
        "text_splitter = RecursiveCharacterTextSplitter(\n",
        "    chunk_size = 1500,\n",
        "    chunk_overlap = 150\n",
        ")\n",
        "\n",
        "splits = text_splitter.split_documents(docs)"
      ],
      "metadata": {
        "id": "_YrokW8HfP3i"
      },
      "execution_count": 5,
      "outputs": []
    },
    {
      "cell_type": "code",
      "source": [
        "len(splits)"
      ],
      "metadata": {
        "colab": {
          "base_uri": "https://localhost:8080/"
        },
        "id": "cRAAmO4nEEYg",
        "outputId": "8b0e91ae-0b96-487d-f49f-653b021f66aa"
      },
      "execution_count": null,
      "outputs": [
        {
          "output_type": "execute_result",
          "data": {
            "text/plain": [
              "199"
            ]
          },
          "metadata": {},
          "execution_count": 8
        }
      ]
    },
    {
      "cell_type": "markdown",
      "source": [
        "## VectorStore & Embedding"
      ],
      "metadata": {
        "id": "EIWJZNsPoAPa"
      }
    },
    {
      "cell_type": "code",
      "source": [
        "from langchain_community.embeddings.sentence_transformer import (\n",
        "    SentenceTransformerEmbeddings,\n",
        ")\n",
        "\n",
        "embedding_function = SentenceTransformerEmbeddings(model_name=\"all-MiniLM-L6-v2\")\n",
        "\n",
        "\n",
        "# save to disk\n",
        "db1 = Chroma.from_documents(docs, embedding_function, persist_directory=\"./chroma_db\")\n",
        "\n",
        "# load from disk\n",
        "db2 = Chroma(persist_directory=\"./chroma_db\", embedding_function=embedding_function)\n",
        "print(docs[0].page_content)"
      ],
      "metadata": {
        "id": "EY6RmgELnP0d"
      },
      "execution_count": null,
      "outputs": []
    },
    {
      "cell_type": "code",
      "source": [
        "from langchain_community.embeddings import HuggingFaceEmbeddings\n",
        "from langchain.vectorstores import Chroma\n",
        "\n",
        "# DEFAULT_SENTENCE_EMBEDDING_MODEL = 'intfloat/multilingual-e5-base'\n",
        "SENTENCE_EMBEDDING_MODEL = 'all-MiniLM-L6-v2'\n",
        "\n",
        "persist_directory = 'chromadb'\n",
        "\n",
        "chromadb = Chroma.from_documents(\n",
        "    docs,\n",
        "    embedding = HuggingFaceEmbeddings(model_name=SENTENCE_EMBEDDING_MODEL),\n",
        "    persist_directory=persist_directory\n",
        ")"
      ],
      "metadata": {
        "id": "tfDXV0qjpOVm"
      },
      "execution_count": 8,
      "outputs": []
    },
    {
      "cell_type": "markdown",
      "source": [
        "## Retrieval"
      ],
      "metadata": {
        "id": "4jnFvK7OnwuK"
      }
    },
    {
      "cell_type": "markdown",
      "source": [
        "### Similarity Search"
      ],
      "metadata": {
        "id": "GehXm_h3ocGX"
      }
    },
    {
      "cell_type": "code",
      "source": [
        "question = \"what did they say about matlab?\"\n",
        "docs_ss = chromadb.similarity_search(question,k=3)"
      ],
      "metadata": {
        "id": "99s_X65tm5zI"
      },
      "execution_count": 66,
      "outputs": []
    },
    {
      "cell_type": "code",
      "source": [
        "print(f'1: {docs_ss[0].page_content[:100]}')\n",
        "print(f'2: {docs_ss[1].page_content[:100]}')"
      ],
      "metadata": {
        "colab": {
          "base_uri": "https://localhost:8080/"
        },
        "id": "uUNYFrANnoXG",
        "outputId": "365bf0d7-8a40-4c3d-b9fc-4d80cb6ae35d"
      },
      "execution_count": 67,
      "outputs": [
        {
          "output_type": "stream",
          "name": "stdout",
          "text": [
            "1: those homeworks will be done in either MATLA B or in Octave, which is sort of — I \n",
            "know some people \n",
            "2: those homeworks will be done in either MATLA B or in Octave, which is sort of — I \n",
            "know some people \n"
          ]
        }
      ]
    },
    {
      "cell_type": "markdown",
      "source": [
        "### Max Marginal Relevance search (MMR)\n",
        "\n",
        "The idea of MMR is that you may not always want to choose the most similar responses.\n",
        "Maximum marginal relevance strives to achieve both relevance to the query and diversity among the results."
      ],
      "metadata": {
        "id": "Ddn4dciHofJb"
      }
    },
    {
      "cell_type": "code",
      "source": [
        "docs_mmr = chromadb.max_marginal_relevance_search(question,k=3)"
      ],
      "metadata": {
        "id": "ACRDRBMhnC1W"
      },
      "execution_count": 68,
      "outputs": []
    },
    {
      "cell_type": "code",
      "source": [
        "print(f'1: {docs_mmr[0].page_content[:100]}')\n",
        "print(f'2: {docs_mmr[1].page_content[:100]}')"
      ],
      "metadata": {
        "colab": {
          "base_uri": "https://localhost:8080/"
        },
        "id": "X-hSaf6InIfX",
        "outputId": "17c01ed1-58ea-467f-975d-ee72a42489a4"
      },
      "execution_count": 69,
      "outputs": [
        {
          "output_type": "stream",
          "name": "stdout",
          "text": [
            "1: those homeworks will be done in either MATLA B or in Octave, which is sort of — I \n",
            "know some people \n",
            "2: And as an aside, this algorithm I just showed you, it seems like it must be a pretty \n",
            "complicated al\n"
          ]
        }
      ]
    },
    {
      "cell_type": "code",
      "source": [
        "question = \"what did they say about regression in the third lecture?\"\n",
        "docs = chromadb.similarity_search(question, k=3)\n",
        "\n",
        "for doc in docs:\n",
        "    print(str(doc.metadata[\"page\"]) + \":\", doc.page_content[:300]+'\\n')"
      ],
      "metadata": {
        "colab": {
          "base_uri": "https://localhost:8080/"
        },
        "id": "GCAU18-NuChX",
        "outputId": "a462d89c-8b85-423c-8765-75ca1b95d0cf"
      },
      "execution_count": 70,
      "outputs": [
        {
          "output_type": "stream",
          "name": "stdout",
          "text": [
            "0: MachineLearning-Lecture03  \n",
            "Instructor (Andrew Ng) :Okay. Good morning and welcome b ack to the third lecture of \n",
            "this class. So here’s what I want to do t oday, and some of the topics I do today may seem \n",
            "a little bit like I’m jumping, sort  of, from topic to topic, but here’s, sort of, the outline\n",
            "\n",
            "0: MachineLearning-Lecture03  \n",
            "Instructor (Andrew Ng) :Okay. Good morning and welcome b ack to the third lecture of \n",
            "this class. So here’s what I want to do t oday, and some of the topics I do today may seem \n",
            "a little bit like I’m jumping, sort  of, from topic to topic, but here’s, sort of, the outline\n",
            "\n",
            "2: Instructor (Andrew Ng) :All right, so who thought driving could be that dramatic, right? \n",
            "Switch back to the chalkboard, please. I s hould say, this work was done about 15 years \n",
            "ago and autonomous driving has come a long way. So many of you will have heard of the \n",
            "DARPA Grand Challenge, where one o\n",
            "\n"
          ]
        }
      ]
    },
    {
      "cell_type": "code",
      "source": [
        "for doc in docs:\n",
        "    print(doc.metadata)"
      ],
      "metadata": {
        "colab": {
          "base_uri": "https://localhost:8080/"
        },
        "id": "yhOVSyDnkyDi",
        "outputId": "df5e2958-f745-43ef-dac7-204dc8436233"
      },
      "execution_count": 71,
      "outputs": [
        {
          "output_type": "stream",
          "name": "stdout",
          "text": [
            "{'page': 0, 'source': 'https://see.stanford.edu/materials/aimlcs229/transcripts/MachineLearning-Lecture03.pdf'}\n",
            "{'page': 0, 'source': 'https://see.stanford.edu/materials/aimlcs229/transcripts/MachineLearning-Lecture03.pdf'}\n",
            "{'page': 2, 'source': 'https://see.stanford.edu/materials/aimlcs229/transcripts/MachineLearning-Lecture02.pdf'}\n"
          ]
        }
      ]
    },
    {
      "cell_type": "markdown",
      "source": [
        "### Other types of retrieval"
      ],
      "metadata": {
        "id": "ebjOvuHGsk9e"
      }
    },
    {
      "cell_type": "code",
      "source": [
        "from langchain.retrievers import SVMRetriever\n",
        "from langchain.retrievers import TFIDFRetriever\n",
        "from langchain.document_loaders import PyPDFLoader\n",
        "from langchain.text_splitter import RecursiveCharacterTextSplitter"
      ],
      "metadata": {
        "id": "DdnVUCzjso5v"
      },
      "execution_count": null,
      "outputs": []
    },
    {
      "cell_type": "code",
      "source": [
        "from langchain_community.embeddings import HuggingFaceEmbeddings\n",
        "embedding = HuggingFaceEmbeddings(model_name=\"all-MiniLM-L6-v2\")\n",
        "\n",
        "# Load PDF\n",
        "loader = PyPDFLoader(\"https://see.stanford.edu/materials/aimlcs229/transcripts/MachineLearning-Lecture01.pdf\")\n",
        "pages = loader.load()\n",
        "all_page_text=[p.page_content for p in pages]\n",
        "joined_page_text=\" \".join(all_page_text)\n",
        "\n",
        "# Split\n",
        "text_splitter = RecursiveCharacterTextSplitter(chunk_size = 1500,chunk_overlap = 150)\n",
        "splits = text_splitter.split_text(joined_page_text)\n",
        "\n",
        "# Retrieve\n",
        "svm_retriever = SVMRetriever.from_texts(splits,embedding)\n",
        "tfidf_retriever = TFIDFRetriever.from_texts(splits)"
      ],
      "metadata": {
        "id": "nTIqsdgis0vN"
      },
      "execution_count": null,
      "outputs": []
    },
    {
      "cell_type": "code",
      "source": [
        "question = \"What are major topics for this class?\"\n",
        "docs_svm=svm_retriever.get_relevant_documents(question)\n",
        "docs_svm[0]"
      ],
      "metadata": {
        "colab": {
          "base_uri": "https://localhost:8080/"
        },
        "id": "ObZVJIkmt22C",
        "outputId": "31fc960f-bae1-4bb2-abf0-e3cacfaaa743"
      },
      "execution_count": null,
      "outputs": [
        {
          "output_type": "execute_result",
          "data": {
            "text/plain": [
              "Document(page_content=\"let me just check what questions you have righ t now. So if there are no questions, I'll just \\nclose with two reminders, which are after class today or as you start to talk with other \\npeople in this class, I just encourage you again to start to form project partners, to try to \\nfind project partners to do your project with. And also, this is a good time to start forming \\nstudy groups, so either talk to your friends  or post in the newsgroup, but we just \\nencourage you to try to star t to do both of those today, okay? Form study groups, and try \\nto find two other project partners.  \\nSo thank you. I'm looking forward to teaching this class, and I'll see you in a couple of \\ndays.   [End of Audio]  \\nDuration: 69 minutes\")"
            ]
          },
          "metadata": {},
          "execution_count": 68
        }
      ]
    },
    {
      "cell_type": "code",
      "source": [
        "question = \"what did they say about matlab?\"\n",
        "docs_tfidf=tfidf_retriever.get_relevant_documents(question)\n",
        "docs_tfidf[0]"
      ],
      "metadata": {
        "colab": {
          "base_uri": "https://localhost:8080/"
        },
        "id": "_l4hXOxmt4A9",
        "outputId": "5723a468-eee3-4322-86e0-bb3e509502d5"
      },
      "execution_count": null,
      "outputs": [
        {
          "output_type": "execute_result",
          "data": {
            "text/plain": [
              "Document(page_content=\"Saxena and Min Sun here did, wh ich is given an image like this, right? This is actually a \\npicture taken of the Stanford campus. You can apply that sort of cl ustering algorithm and \\ngroup the picture into regions. Let me actually blow that up so that you can see it more \\nclearly. Okay. So in the middle, you see the lines sort of groupi ng the image together, \\ngrouping the image into [inaudible] regions.  \\nAnd what Ashutosh and Min did was they then  applied the learning algorithm to say can \\nwe take this clustering and us e it to build a 3D model of the world? And so using the \\nclustering, they then had a lear ning algorithm try to learn what the 3D structure of the \\nworld looks like so that they could come up with a 3D model that you can sort of fly \\nthrough, okay? Although many people used to th ink it's not possible to take a single \\nimage and build a 3D model, but using a lear ning algorithm and that sort of clustering \\nalgorithm is the first step. They were able to.  \\nI'll just show you one more example. I like this  because it's a picture of Stanford with our \\nbeautiful Stanford campus. So again, taking th e same sort of clustering algorithms, taking \\nthe same sort of unsupervised learning algor ithm, you can group the pixels into different \\nregions. And using that as a pre-processing step, they eventually built this sort of 3D model of Stanford campus in a single picture.  You can sort of walk  into the ceiling, look\")"
            ]
          },
          "metadata": {},
          "execution_count": 69
        }
      ]
    },
    {
      "cell_type": "markdown",
      "source": [
        "## Question-Answering"
      ],
      "metadata": {
        "id": "nhpafKqPuyh0"
      }
    },
    {
      "cell_type": "markdown",
      "source": [
        "### Claude3"
      ],
      "metadata": {
        "id": "zgooEsbWiNpD"
      }
    },
    {
      "cell_type": "code",
      "source": [
        "import os\n",
        "from google.colab import userdata\n",
        "\n",
        "# set key to ENV\n",
        "key = 'ANTHROPIC_API_KEY'\n",
        "os.environ[key] = userdata.get(key)"
      ],
      "metadata": {
        "id": "QfSUBlb9jVt9"
      },
      "execution_count": null,
      "outputs": []
    },
    {
      "cell_type": "code",
      "source": [
        "from langchain_anthropic import ChatAnthropic\n",
        "\n",
        "chat = ChatAnthropic(temperature=0, model_name=\"claude-3-opus-20240229\")"
      ],
      "metadata": {
        "id": "609dRjIPmj6l"
      },
      "execution_count": 59,
      "outputs": []
    },
    {
      "cell_type": "markdown",
      "source": [
        "### RetrievalQA chain"
      ],
      "metadata": {
        "id": "3MA_0g73lWfL"
      }
    },
    {
      "cell_type": "code",
      "source": [
        "# RetrievalQA chain\n",
        "from langchain.chains import RetrievalQA\n",
        "\n",
        "qa_chain = RetrievalQA.from_chain_type(\n",
        "    chat,\n",
        "    retriever=chromadb.as_retriever(),\n",
        ")"
      ],
      "metadata": {
        "id": "ZSYSRqJ6_Kl2"
      },
      "execution_count": 60,
      "outputs": []
    },
    {
      "cell_type": "code",
      "source": [
        "question = \"Is probability a class topic?\"\n",
        "result = qa_chain({\"query\": question})\n",
        "result[\"result\"]"
      ],
      "metadata": {
        "colab": {
          "base_uri": "https://localhost:8080/",
          "height": 88
        },
        "id": "PXGFFBJiFL9V",
        "outputId": "3495a9e1-4776-4ac2-c0fc-1037e5263595"
      },
      "execution_count": 61,
      "outputs": [
        {
          "output_type": "execute_result",
          "data": {
            "text/plain": [
              "\"Yes, probability is an important prerequisite topic for this machine learning class. The instructor mentions that he assumes students have familiarity with basic probability and statistics, such as knowing what random variables, expectation, and variance are. \\n\\nHe says most undergraduate statistics classes, like Stat 116 at Stanford, will provide more than enough probability background for this course. He also mentions that for students who haven't seen probability material in a while, some of the discussion sections will review the probability prerequisites as a refresher.\""
            ],
            "application/vnd.google.colaboratory.intrinsic+json": {
              "type": "string"
            }
          },
          "metadata": {},
          "execution_count": 61
        }
      ]
    },
    {
      "cell_type": "markdown",
      "source": [
        "### Prompt"
      ],
      "metadata": {
        "id": "vk6o-YWvlf8l"
      }
    },
    {
      "cell_type": "code",
      "source": [
        "from langchain.prompts import PromptTemplate\n",
        "\n",
        "# Build prompt\n",
        "template = \"\"\"Use the following pieces of context to answer the question at the end. If you don't know the answer, just say that you don't know, don't try to make up an answer. Use three sentences maximum. Keep the answer as concise as possible. Always say \"thanks for asking!\" at the end of the answer.\n",
        "{context}\n",
        "Question: {question}\n",
        "Helpful Answer:\"\"\"\n",
        "QA_CHAIN_PROMPT = PromptTemplate.from_template(template)\n"
      ],
      "metadata": {
        "id": "7rBh2mRhmwaK"
      },
      "execution_count": 62,
      "outputs": []
    },
    {
      "cell_type": "code",
      "source": [
        "# RetrievalQA chain\n",
        "from langchain.chains import RetrievalQA\n",
        "\n",
        "qa_chain = RetrievalQA.from_chain_type(\n",
        "    chat,\n",
        "    retriever=chromadb.as_retriever(),\n",
        "    chain_type_kwargs={\"prompt\": QA_CHAIN_PROMPT}\n",
        ")"
      ],
      "metadata": {
        "id": "cV6VuH_NmrN1"
      },
      "execution_count": 63,
      "outputs": []
    },
    {
      "cell_type": "code",
      "source": [
        "question = \"Is probability a class topic?\"\n",
        "result = qa_chain({\"query\": question})\n",
        "result[\"result\"]"
      ],
      "metadata": {
        "colab": {
          "base_uri": "https://localhost:8080/",
          "height": 53
        },
        "id": "1paKZwPbmtbb",
        "outputId": "00b42488-cf8b-42ff-e579-273f3eaa5646"
      },
      "execution_count": 64,
      "outputs": [
        {
          "output_type": "execute_result",
          "data": {
            "text/plain": [
              "'Yes, probability is a topic covered in this class. The instructor mentions that if students need a refresher on the foundations of probability, the discussion sections taught by the TAs will review probability. Thanks for asking!'"
            ],
            "application/vnd.google.colaboratory.intrinsic+json": {
              "type": "string"
            }
          },
          "metadata": {},
          "execution_count": 64
        }
      ]
    }
  ]
}